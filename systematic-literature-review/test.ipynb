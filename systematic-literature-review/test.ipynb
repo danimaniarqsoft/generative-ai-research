{
 "cells": [
  {
   "cell_type": "code",
   "execution_count": 16,
   "metadata": {},
   "outputs": [
    {
     "ename": "LookupError",
     "evalue": "new mexico, usa",
     "output_type": "error",
     "traceback": [
      "\u001b[0;31m---------------------------------------------------------------------------\u001b[0m",
      "\u001b[0;31mLookupError\u001b[0m                               Traceback (most recent call last)",
      "Cell \u001b[0;32mIn[16], line 5\u001b[0m\n\u001b[1;32m      1\u001b[0m \u001b[38;5;28;01mimport\u001b[39;00m \u001b[38;5;21;01mpycountry\u001b[39;00m\n\u001b[1;32m      2\u001b[0m \u001b[38;5;28;01mimport\u001b[39;00m \u001b[38;5;21;01mpandas\u001b[39;00m \u001b[38;5;28;01mas\u001b[39;00m \u001b[38;5;21;01mpd\u001b[39;00m\n\u001b[0;32m----> 5\u001b[0m result \u001b[38;5;241m=\u001b[39m    \u001b[43mpycountry\u001b[49m\u001b[38;5;241;43m.\u001b[39;49m\u001b[43mcountries\u001b[49m\u001b[38;5;241;43m.\u001b[39;49m\u001b[43msearch_fuzzy\u001b[49m\u001b[43m(\u001b[49m\u001b[38;5;124;43m'\u001b[39;49m\u001b[38;5;124;43mNew Mexico, USA\u001b[39;49m\u001b[38;5;124;43m'\u001b[39;49m\u001b[43m)\u001b[49m\n\u001b[1;32m      7\u001b[0m \u001b[38;5;28mprint\u001b[39m(result)\n",
      "File \u001b[0;32m~/projects/git/generative-ai-research/.venv/lib/python3.12/site-packages/pycountry/__init__.py:112\u001b[0m, in \u001b[0;36mExistingCountries.search_fuzzy\u001b[0;34m(self, query)\u001b[0m\n\u001b[1;32m    109\u001b[0m         add_result(candidate\u001b[38;5;241m.\u001b[39mcountry, \u001b[38;5;28mmax\u001b[39m([\u001b[38;5;241m1\u001b[39m, \u001b[38;5;241m5\u001b[39m \u001b[38;5;241m-\u001b[39m v\u001b[38;5;241m.\u001b[39mfind(query)]))\n\u001b[1;32m    111\u001b[0m \u001b[38;5;28;01mif\u001b[39;00m \u001b[38;5;129;01mnot\u001b[39;00m results:\n\u001b[0;32m--> 112\u001b[0m     \u001b[38;5;28;01mraise\u001b[39;00m \u001b[38;5;167;01mLookupError\u001b[39;00m(query)\n\u001b[1;32m    114\u001b[0m sorted_results \u001b[38;5;241m=\u001b[39m [\n\u001b[1;32m    115\u001b[0m     \u001b[38;5;28mself\u001b[39m\u001b[38;5;241m.\u001b[39mget(alpha_2\u001b[38;5;241m=\u001b[39mx[\u001b[38;5;241m0\u001b[39m])\n\u001b[1;32m    116\u001b[0m     \u001b[38;5;66;03m# sort by points first, by alpha2 code second, and to ensure stable\u001b[39;00m\n\u001b[0;32m   (...)\u001b[0m\n\u001b[1;32m    119\u001b[0m     \u001b[38;5;28;01mfor\u001b[39;00m x \u001b[38;5;129;01min\u001b[39;00m \u001b[38;5;28msorted\u001b[39m(results\u001b[38;5;241m.\u001b[39mitems(), key\u001b[38;5;241m=\u001b[39m\u001b[38;5;28;01mlambda\u001b[39;00m x: (\u001b[38;5;241m-\u001b[39mx[\u001b[38;5;241m1\u001b[39m], x[\u001b[38;5;241m0\u001b[39m]))\n\u001b[1;32m    120\u001b[0m ]\n\u001b[1;32m    121\u001b[0m \u001b[38;5;28;01mreturn\u001b[39;00m sorted_results\n",
      "\u001b[0;31mLookupError\u001b[0m: new mexico, usa"
     ]
    }
   ],
   "source": [
    "import pycountry\n",
    "import pandas as pd\n",
    "\n",
    "\n",
    "result =    pycountry.countries.search_fuzzy('New Mexico, USA')\n",
    "\n",
    "print(result)"
   ]
  }
 ],
 "metadata": {
  "kernelspec": {
   "display_name": ".venv",
   "language": "python",
   "name": "python3"
  },
  "language_info": {
   "codemirror_mode": {
    "name": "ipython",
    "version": 3
   },
   "file_extension": ".py",
   "mimetype": "text/x-python",
   "name": "python",
   "nbconvert_exporter": "python",
   "pygments_lexer": "ipython3",
   "version": "3.12.3"
  }
 },
 "nbformat": 4,
 "nbformat_minor": 2
}
